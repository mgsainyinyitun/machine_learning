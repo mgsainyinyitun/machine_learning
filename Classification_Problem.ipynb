{
 "cells": [
  {
   "cell_type": "code",
   "execution_count": 1,
   "id": "178d248c",
   "metadata": {},
   "outputs": [],
   "source": [
    "# Import \n",
    "import pandas as pd\n",
    "import numpy as np"
   ]
  },
  {
   "cell_type": "code",
   "execution_count": 2,
   "id": "c721b0e4",
   "metadata": {},
   "outputs": [
    {
     "data": {
      "text/html": [
       "<div>\n",
       "<style scoped>\n",
       "    .dataframe tbody tr th:only-of-type {\n",
       "        vertical-align: middle;\n",
       "    }\n",
       "\n",
       "    .dataframe tbody tr th {\n",
       "        vertical-align: top;\n",
       "    }\n",
       "\n",
       "    .dataframe thead th {\n",
       "        text-align: right;\n",
       "    }\n",
       "</style>\n",
       "<table border=\"1\" class=\"dataframe\">\n",
       "  <thead>\n",
       "    <tr style=\"text-align: right;\">\n",
       "      <th></th>\n",
       "      <th>age</th>\n",
       "      <th>sex</th>\n",
       "      <th>cp</th>\n",
       "      <th>trestbps</th>\n",
       "      <th>chol</th>\n",
       "      <th>fbs</th>\n",
       "      <th>restecg</th>\n",
       "      <th>thalach</th>\n",
       "      <th>exang</th>\n",
       "      <th>oldpeak</th>\n",
       "      <th>slope</th>\n",
       "      <th>ca</th>\n",
       "      <th>thal</th>\n",
       "      <th>target</th>\n",
       "    </tr>\n",
       "  </thead>\n",
       "  <tbody>\n",
       "    <tr>\n",
       "      <th>0</th>\n",
       "      <td>63</td>\n",
       "      <td>1</td>\n",
       "      <td>3</td>\n",
       "      <td>145</td>\n",
       "      <td>233</td>\n",
       "      <td>1</td>\n",
       "      <td>0</td>\n",
       "      <td>150</td>\n",
       "      <td>0</td>\n",
       "      <td>2.3</td>\n",
       "      <td>0</td>\n",
       "      <td>0</td>\n",
       "      <td>1</td>\n",
       "      <td>1</td>\n",
       "    </tr>\n",
       "    <tr>\n",
       "      <th>1</th>\n",
       "      <td>37</td>\n",
       "      <td>1</td>\n",
       "      <td>2</td>\n",
       "      <td>130</td>\n",
       "      <td>250</td>\n",
       "      <td>0</td>\n",
       "      <td>1</td>\n",
       "      <td>187</td>\n",
       "      <td>0</td>\n",
       "      <td>3.5</td>\n",
       "      <td>0</td>\n",
       "      <td>0</td>\n",
       "      <td>2</td>\n",
       "      <td>1</td>\n",
       "    </tr>\n",
       "    <tr>\n",
       "      <th>2</th>\n",
       "      <td>41</td>\n",
       "      <td>0</td>\n",
       "      <td>1</td>\n",
       "      <td>130</td>\n",
       "      <td>204</td>\n",
       "      <td>0</td>\n",
       "      <td>0</td>\n",
       "      <td>172</td>\n",
       "      <td>0</td>\n",
       "      <td>1.4</td>\n",
       "      <td>2</td>\n",
       "      <td>0</td>\n",
       "      <td>2</td>\n",
       "      <td>1</td>\n",
       "    </tr>\n",
       "    <tr>\n",
       "      <th>3</th>\n",
       "      <td>56</td>\n",
       "      <td>1</td>\n",
       "      <td>1</td>\n",
       "      <td>120</td>\n",
       "      <td>236</td>\n",
       "      <td>0</td>\n",
       "      <td>1</td>\n",
       "      <td>178</td>\n",
       "      <td>0</td>\n",
       "      <td>0.8</td>\n",
       "      <td>2</td>\n",
       "      <td>0</td>\n",
       "      <td>2</td>\n",
       "      <td>1</td>\n",
       "    </tr>\n",
       "    <tr>\n",
       "      <th>4</th>\n",
       "      <td>57</td>\n",
       "      <td>0</td>\n",
       "      <td>0</td>\n",
       "      <td>120</td>\n",
       "      <td>354</td>\n",
       "      <td>0</td>\n",
       "      <td>1</td>\n",
       "      <td>163</td>\n",
       "      <td>1</td>\n",
       "      <td>0.6</td>\n",
       "      <td>2</td>\n",
       "      <td>0</td>\n",
       "      <td>2</td>\n",
       "      <td>1</td>\n",
       "    </tr>\n",
       "  </tbody>\n",
       "</table>\n",
       "</div>"
      ],
      "text/plain": [
       "   age  sex  cp  trestbps  chol  fbs  restecg  thalach  exang  oldpeak  slope  \\\n",
       "0   63    1   3       145   233    1        0      150      0      2.3      0   \n",
       "1   37    1   2       130   250    0        1      187      0      3.5      0   \n",
       "2   41    0   1       130   204    0        0      172      0      1.4      2   \n",
       "3   56    1   1       120   236    0        1      178      0      0.8      2   \n",
       "4   57    0   0       120   354    0        1      163      1      0.6      2   \n",
       "\n",
       "   ca  thal  target  \n",
       "0   0     1       1  \n",
       "1   0     2       1  \n",
       "2   0     2       1  \n",
       "3   0     2       1  \n",
       "4   0     2       1  "
      ]
     },
     "execution_count": 2,
     "metadata": {},
     "output_type": "execute_result"
    }
   ],
   "source": [
    "heart_disease = pd.read_csv('heart-disease.csv')\n",
    "heart_disease.head()"
   ]
  },
  {
   "cell_type": "code",
   "execution_count": 3,
   "id": "4d290eb3",
   "metadata": {},
   "outputs": [],
   "source": [
    "X = heart_disease.drop(\"target\",axis=1)\n",
    "y = heart_disease[\"target\"]"
   ]
  },
  {
   "cell_type": "code",
   "execution_count": 4,
   "id": "95e35984",
   "metadata": {},
   "outputs": [],
   "source": [
    "from sklearn.model_selection import train_test_split\n",
    "X_train,X_test,y_train,y_test = train_test_split(X,y,test_size=0.2)"
   ]
  },
  {
   "cell_type": "code",
   "execution_count": 5,
   "id": "1786da45",
   "metadata": {},
   "outputs": [
    {
     "data": {
      "text/plain": [
       "0.8524590163934426"
      ]
     },
     "execution_count": 5,
     "metadata": {},
     "output_type": "execute_result"
    }
   ],
   "source": [
    "## Fit model\n",
    "from sklearn.ensemble import RandomForestClassifier\n",
    "rf_clf = RandomForestClassifier()\n",
    "rf_clf.fit(X_train,y_train)\n",
    "rf_clf.score(X_test,y_test)"
   ]
  },
  {
   "cell_type": "code",
   "execution_count": 6,
   "id": "2f42570e",
   "metadata": {},
   "outputs": [],
   "source": [
    "## Cross validateion"
   ]
  },
  {
   "cell_type": "code",
   "execution_count": 7,
   "id": "ec471114",
   "metadata": {},
   "outputs": [],
   "source": [
    "from sklearn.model_selection import cross_val_score\n",
    "cvs = cross_val_score(rf_clf,X_train,y_train,cv=10) # score() # mean accuracy"
   ]
  },
  {
   "cell_type": "code",
   "execution_count": 8,
   "id": "b722dc83",
   "metadata": {},
   "outputs": [
    {
     "name": "stdout",
     "output_type": "stream",
     "text": [
      "Mean of Our Model 79.75 %\n",
      "Standard Deviation 0.06572776345570333\n"
     ]
    }
   ],
   "source": [
    "print(f'Mean of Our Model {cvs.mean()*100:.2f} %')\n",
    "print(f'Standard Deviation {np.std(cvs)}')"
   ]
  },
  {
   "cell_type": "code",
   "execution_count": 9,
   "id": "db2cc82a",
   "metadata": {},
   "outputs": [
    {
     "data": {
      "text/plain": [
       "array([[25,  3],\n",
       "       [ 6, 27]], dtype=int64)"
      ]
     },
     "execution_count": 9,
     "metadata": {},
     "output_type": "execute_result"
    }
   ],
   "source": [
    "y_predict = rf_clf.predict(X_test)\n",
    "## Confusion Matrix\n",
    "from sklearn.metrics import confusion_matrix,plot_confusion_matrix\n",
    "confusion_matrix(y_test,y_predict)   # [[(0,0),(0,1)\n",
    "                                     #  (1,0),(1,1)]]"
   ]
  },
  {
   "cell_type": "code",
   "execution_count": 10,
   "id": "caba3b07",
   "metadata": {},
   "outputs": [
    {
     "data": {
      "text/plain": [
       "<sklearn.metrics._plot.confusion_matrix.ConfusionMatrixDisplay at 0x1ac4bea8cd0>"
      ]
     },
     "execution_count": 10,
     "metadata": {},
     "output_type": "execute_result"
    },
    {
     "data": {
      "image/png": "[encoded data removed]",
      "text/plain": [
       "<Figure size 432x288 with 2 Axes>"
      ]
     },
     "metadata": {
      "needs_background": "light"
     },
     "output_type": "display_data"
    }
   ],
   "source": [
    "plot_confusion_matrix(rf_clf,X,y,cmap='Reds')"
   ]
  },
  {
   "cell_type": "code",
   "execution_count": 11,
   "id": "fb7988ad",
   "metadata": {},
   "outputs": [],
   "source": [
    "## ROC Curev\n",
    "from sklearn.metrics import roc_curve"
   ]
  },
  {
   "cell_type": "code",
   "execution_count": 12,
   "id": "808dd0cd",
   "metadata": {},
   "outputs": [
    {
     "data": {
      "text/plain": [
       "array([1, 1, 0, 0, 0, 0, 1, 0, 0, 0, 0, 0, 1, 0, 1, 1, 0, 1, 0, 1, 1, 0,\n",
       "       0, 0, 0, 1, 1, 0, 1, 0, 1, 0, 1, 0, 1, 0, 0, 0, 1, 0, 1, 0, 0, 1,\n",
       "       1, 1, 1, 1, 1, 0, 1, 0, 1, 0, 0, 1, 1, 1, 1, 0, 1], dtype=int64)"
      ]
     },
     "execution_count": 12,
     "metadata": {},
     "output_type": "execute_result"
    }
   ],
   "source": [
    "y_predict"
   ]
  },
  {
   "cell_type": "code",
   "execution_count": 13,
   "id": "05fa525c",
   "metadata": {},
   "outputs": [],
   "source": [
    "y_pred_pro = rf_clf.predict_proba(X_test)"
   ]
  },
  {
   "cell_type": "code",
   "execution_count": 14,
   "id": "52b2e47b",
   "metadata": {},
   "outputs": [
    {
     "data": {
      "text/plain": [
       "array([[0.05, 0.95],\n",
       "       [0.42, 0.58],\n",
       "       [0.84, 0.16],\n",
       "       [0.84, 0.16],\n",
       "       [0.77, 0.23]])"
      ]
     },
     "execution_count": 14,
     "metadata": {},
     "output_type": "execute_result"
    }
   ],
   "source": [
    "y_pred_pro[:5] # probaility of class class 0 class 1 < 1. 94 % 6% => 0  > "
   ]
  },
  {
   "cell_type": "code",
   "execution_count": 15,
   "id": "906124dc",
   "metadata": {},
   "outputs": [
    {
     "data": {
      "text/plain": [
       "(61, 2)"
      ]
     },
     "execution_count": 15,
     "metadata": {},
     "output_type": "execute_result"
    }
   ],
   "source": [
    "y_pred_pro.shape"
   ]
  },
  {
   "cell_type": "code",
   "execution_count": 16,
   "id": "2a111548",
   "metadata": {},
   "outputs": [
    {
     "data": {
      "text/plain": [
       "array([0.95, 0.58, 0.16, 0.16, 0.23, 0.08, 0.74, 0.44, 0.13, 0.43, 0.25,\n",
       "       0.12, 0.88, 0.28, 0.77, 0.64, 0.4 , 0.57, 0.15, 0.83, 0.61, 0.45,\n",
       "       0.07, 0.34, 0.05, 0.52, 0.57, 0.09, 0.82, 0.47, 0.93, 0.13, 0.75,\n",
       "       0.19, 0.8 , 0.33, 0.07, 0.05, 0.74, 0.45, 0.99, 0.01, 0.04, 0.9 ,\n",
       "       0.69, 0.62, 0.84, 0.79, 0.94, 0.12, 0.53, 0.44, 0.65, 0.44, 0.48,\n",
       "       0.55, 0.89, 0.79, 0.53, 0.3 , 0.55])"
      ]
     },
     "execution_count": 16,
     "metadata": {},
     "output_type": "execute_result"
    }
   ],
   "source": [
    "positive_prob = y_pred_pro[:,1]\n",
    "positive_prob"
   ]
  },
  {
   "cell_type": "code",
   "execution_count": 17,
   "id": "cc12eb97",
   "metadata": {},
   "outputs": [],
   "source": [
    "fpr,tpr,thresholds = roc_curve(y_test,positive_prob)"
   ]
  },
  {
   "cell_type": "code",
   "execution_count": 18,
   "id": "8371cf17",
   "metadata": {},
   "outputs": [],
   "source": [
    "import matplotlib.pyplot as plt"
   ]
  },
  {
   "cell_type": "code",
   "execution_count": 19,
   "id": "7bc66e29",
   "metadata": {},
   "outputs": [],
   "source": [
    "def plot_roc_curve(fpr,tpr):\n",
    "    plt.plot(fpr,tpr,color='red',label='ROC Curve')\n",
    "    plt.plot([0,1],[0,1],color='darkblue',linestyle='--',label='Guessing')\n",
    "    plt.xlabel('False Positive Rate')\n",
    "    plt.ylabel('True Positive Rate')\n",
    "    plt.legend(loc='lower right')\n",
    "    plt.title('Receiver Operating Characteristics Curve')"
   ]
  },
  {
   "cell_type": "code",
   "execution_count": 20,
   "id": "09af7199",
   "metadata": {},
   "outputs": [
    {
     "data": {
      "image/png": "[encoded data removed]",
      "text/plain": [
       "<Figure size 432x288 with 1 Axes>"
      ]
     },
     "metadata": {
      "needs_background": "light"
     },
     "output_type": "display_data"
    }
   ],
   "source": [
    "plot_roc_curve(fpr,tpr)"
   ]
  },
  {
   "cell_type": "code",
   "execution_count": 21,
   "id": "4cd82d51",
   "metadata": {},
   "outputs": [],
   "source": [
    "# Theory Curve\n",
    "fpr,tpr,thresholds = roc_curve(y_test,y_test)"
   ]
  },
  {
   "cell_type": "code",
   "execution_count": 22,
   "id": "ebf37829",
   "metadata": {},
   "outputs": [
    {
     "data": {
      "image/png": "[encoded data removed]",
      "text/plain": [
       "<Figure size 432x288 with 1 Axes>"
      ]
     },
     "metadata": {
      "needs_background": "light"
     },
     "output_type": "display_data"
    }
   ],
   "source": [
    "plot_roc_curve(fpr,tpr)"
   ]
  },
  {
   "cell_type": "code",
   "execution_count": 23,
   "id": "db7f1c8e",
   "metadata": {},
   "outputs": [
    {
     "data": {
      "text/plain": [
       "0.928030303030303"
      ]
     },
     "execution_count": 23,
     "metadata": {},
     "output_type": "execute_result"
    }
   ],
   "source": [
    "# Area under the Curve AUC\n",
    "from sklearn.metrics import roc_auc_score\n",
    "auc = roc_auc_score(y_test,positive_prob)\n",
    "auc"
   ]
  },
  {
   "cell_type": "code",
   "execution_count": 24,
   "id": "c8520779",
   "metadata": {},
   "outputs": [
    {
     "name": "stdout",
     "output_type": "stream",
     "text": [
      "              precision    recall  f1-score   support\n",
      "\n",
      "           0       0.81      0.89      0.85        28\n",
      "           1       0.90      0.82      0.86        33\n",
      "\n",
      "    accuracy                           0.85        61\n",
      "   macro avg       0.85      0.86      0.85        61\n",
      "weighted avg       0.86      0.85      0.85        61\n",
      "\n"
     ]
    }
   ],
   "source": [
    "## Classification Report\n",
    "from sklearn.metrics import classification_report\n",
    "\n",
    "print(classification_report(y_test,y_predict))"
   ]
  },
  {
   "cell_type": "code",
   "execution_count": 25,
   "id": "62868737",
   "metadata": {},
   "outputs": [
    {
     "data": {
      "text/plain": [
       "<sklearn.metrics._plot.roc_curve.RocCurveDisplay at 0x1ac4e23adc0>"
      ]
     },
     "execution_count": 25,
     "metadata": {},
     "output_type": "execute_result"
    },
    {
     "data": {
      "image/png": "[encoded data removed]",
      "text/plain": [
       "<Figure size 432x288 with 1 Axes>"
      ]
     },
     "metadata": {
      "needs_background": "light"
     },
     "output_type": "display_data"
    }
   ],
   "source": [
    "from sklearn.metrics import plot_roc_curve\n",
    "plot_roc_curve(rf_clf,X_test,y_test)"
   ]
  },
  {
   "cell_type": "code",
   "execution_count": 26,
   "id": "194c8dc4",
   "metadata": {},
   "outputs": [
    {
     "data": {
      "text/plain": [
       "<sklearn.metrics._plot.precision_recall_curve.PrecisionRecallDisplay at 0x1ac4be74d90>"
      ]
     },
     "execution_count": 26,
     "metadata": {},
     "output_type": "execute_result"
    },
    {
     "data": {
      "image/png": "[encoded data removed]",
      "text/plain": [
       "<Figure size 432x288 with 1 Axes>"
      ]
     },
     "metadata": {
      "needs_background": "light"
     },
     "output_type": "display_data"
    }
   ],
   "source": [
    "from sklearn.metrics import plot_precision_recall_curve\n",
    "plot_precision_recall_curve(rf_clf,X,y)"
   ]
  },
  {
   "cell_type": "code",
   "execution_count": 27,
   "id": "de5997cd",
   "metadata": {},
   "outputs": [],
   "source": [
    "# improve model with Grid Search CV\n",
    "from sklearn.model_selection import GridSearchCV"
   ]
  },
  {
   "cell_type": "code",
   "execution_count": 29,
   "id": "3232ea11",
   "metadata": {},
   "outputs": [
    {
     "name": "stdout",
     "output_type": "stream",
     "text": [
      "Fitting 5 folds for each of 30 candidates, totalling 150 fits\n",
      "[CV] END .criterion=gini, max_features=auto, n_estimators=50; total time=   0.5s\n",
      "[CV] END .criterion=gini, max_features=auto, n_estimators=50; total time=   0.4s\n",
      "[CV] END .criterion=gini, max_features=auto, n_estimators=50; total time=   0.5s\n",
      "[CV] END .criterion=gini, max_features=auto, n_estimators=50; total time=   0.3s\n",
      "[CV] END .criterion=gini, max_features=auto, n_estimators=50; total time=   0.5s\n",
      "[CV] END criterion=gini, max_features=auto, n_estimators=100; total time=   0.8s\n",
      "[CV] END criterion=gini, max_features=auto, n_estimators=100; total time=   0.3s\n",
      "[CV] END criterion=gini, max_features=auto, n_estimators=100; total time=   0.9s\n",
      "[CV] END criterion=gini, max_features=auto, n_estimators=100; total time=   0.5s\n",
      "[CV] END criterion=gini, max_features=auto, n_estimators=100; total time=   0.4s\n",
      "[CV] END criterion=gini, max_features=auto, n_estimators=150; total time=   0.6s\n",
      "[CV] END criterion=gini, max_features=auto, n_estimators=150; total time=   0.7s\n",
      "[CV] END criterion=gini, max_features=auto, n_estimators=150; total time=   0.5s\n",
      "[CV] END criterion=gini, max_features=auto, n_estimators=150; total time=   0.6s\n",
      "[CV] END criterion=gini, max_features=auto, n_estimators=150; total time=   0.4s\n",
      "[CV] END criterion=gini, max_features=auto, n_estimators=200; total time=   0.9s\n",
      "[CV] END criterion=gini, max_features=auto, n_estimators=200; total time=   0.8s\n",
      "[CV] END criterion=gini, max_features=auto, n_estimators=200; total time=   0.6s\n",
      "[CV] END criterion=gini, max_features=auto, n_estimators=200; total time=   0.9s\n",
      "[CV] END criterion=gini, max_features=auto, n_estimators=200; total time=   0.8s\n",
      "[CV] END criterion=gini, max_features=auto, n_estimators=250; total time=   0.9s\n",
      "[CV] END criterion=gini, max_features=auto, n_estimators=250; total time=   1.3s\n",
      "[CV] END criterion=gini, max_features=auto, n_estimators=250; total time=   1.1s\n",
      "[CV] END criterion=gini, max_features=auto, n_estimators=250; total time=   1.0s\n",
      "[CV] END criterion=gini, max_features=auto, n_estimators=250; total time=   0.9s\n",
      "[CV] END .criterion=gini, max_features=sqrt, n_estimators=50; total time=   0.3s\n",
      "[CV] END .criterion=gini, max_features=sqrt, n_estimators=50; total time=   0.2s\n",
      "[CV] END .criterion=gini, max_features=sqrt, n_estimators=50; total time=   0.1s\n",
      "[CV] END .criterion=gini, max_features=sqrt, n_estimators=50; total time=   0.2s\n",
      "[CV] END .criterion=gini, max_features=sqrt, n_estimators=50; total time=   0.3s\n",
      "[CV] END criterion=gini, max_features=sqrt, n_estimators=100; total time=   0.3s\n",
      "[CV] END criterion=gini, max_features=sqrt, n_estimators=100; total time=   0.7s\n",
      "[CV] END criterion=gini, max_features=sqrt, n_estimators=100; total time=   0.6s\n",
      "[CV] END criterion=gini, max_features=sqrt, n_estimators=100; total time=   0.4s\n",
      "[CV] END criterion=gini, max_features=sqrt, n_estimators=100; total time=   0.3s\n",
      "[CV] END criterion=gini, max_features=sqrt, n_estimators=150; total time=   0.4s\n",
      "[CV] END criterion=gini, max_features=sqrt, n_estimators=150; total time=   0.7s\n",
      "[CV] END criterion=gini, max_features=sqrt, n_estimators=150; total time=   0.4s\n",
      "[CV] END criterion=gini, max_features=sqrt, n_estimators=150; total time=   0.3s\n",
      "[CV] END criterion=gini, max_features=sqrt, n_estimators=150; total time=   0.7s\n",
      "[CV] END criterion=gini, max_features=sqrt, n_estimators=200; total time=   1.4s\n",
      "[CV] END criterion=gini, max_features=sqrt, n_estimators=200; total time=   0.8s\n",
      "[CV] END criterion=gini, max_features=sqrt, n_estimators=200; total time=   0.7s\n",
      "[CV] END criterion=gini, max_features=sqrt, n_estimators=200; total time=   1.3s\n",
      "[CV] END criterion=gini, max_features=sqrt, n_estimators=200; total time=   0.6s\n",
      "[CV] END criterion=gini, max_features=sqrt, n_estimators=250; total time=   0.8s\n",
      "[CV] END criterion=gini, max_features=sqrt, n_estimators=250; total time=   1.2s\n",
      "[CV] END criterion=gini, max_features=sqrt, n_estimators=250; total time=   0.9s\n",
      "[CV] END criterion=gini, max_features=sqrt, n_estimators=250; total time=   1.0s\n",
      "[CV] END criterion=gini, max_features=sqrt, n_estimators=250; total time=   0.8s\n",
      "[CV] END .criterion=gini, max_features=log2, n_estimators=50; total time=   0.2s\n",
      "[CV] END .criterion=gini, max_features=log2, n_estimators=50; total time=   0.3s\n",
      "[CV] END .criterion=gini, max_features=log2, n_estimators=50; total time=   0.1s\n",
      "[CV] END .criterion=gini, max_features=log2, n_estimators=50; total time=   0.1s\n",
      "[CV] END .criterion=gini, max_features=log2, n_estimators=50; total time=   0.1s\n",
      "[CV] END criterion=gini, max_features=log2, n_estimators=100; total time=   0.4s\n",
      "[CV] END criterion=gini, max_features=log2, n_estimators=100; total time=   0.3s\n",
      "[CV] END criterion=gini, max_features=log2, n_estimators=100; total time=   0.4s\n",
      "[CV] END criterion=gini, max_features=log2, n_estimators=100; total time=   0.3s\n",
      "[CV] END criterion=gini, max_features=log2, n_estimators=100; total time=   0.3s\n",
      "[CV] END criterion=gini, max_features=log2, n_estimators=150; total time=   0.6s\n",
      "[CV] END criterion=gini, max_features=log2, n_estimators=150; total time=   0.6s\n",
      "[CV] END criterion=gini, max_features=log2, n_estimators=150; total time=   0.9s\n",
      "[CV] END criterion=gini, max_features=log2, n_estimators=150; total time=   0.4s\n",
      "[CV] END criterion=gini, max_features=log2, n_estimators=150; total time=   0.7s\n",
      "[CV] END criterion=gini, max_features=log2, n_estimators=200; total time=   0.8s\n",
      "[CV] END criterion=gini, max_features=log2, n_estimators=200; total time=   0.7s\n",
      "[CV] END criterion=gini, max_features=log2, n_estimators=200; total time=   1.0s\n",
      "[CV] END criterion=gini, max_features=log2, n_estimators=200; total time=   0.5s\n",
      "[CV] END criterion=gini, max_features=log2, n_estimators=200; total time=   0.8s\n",
      "[CV] END criterion=gini, max_features=log2, n_estimators=250; total time=   1.2s\n",
      "[CV] END criterion=gini, max_features=log2, n_estimators=250; total time=   1.0s\n",
      "[CV] END criterion=gini, max_features=log2, n_estimators=250; total time=   1.2s\n",
      "[CV] END criterion=gini, max_features=log2, n_estimators=250; total time=   1.3s\n",
      "[CV] END criterion=gini, max_features=log2, n_estimators=250; total time=   0.9s\n",
      "[CV] END criterion=entropy, max_features=auto, n_estimators=50; total time=   0.0s\n",
      "[CV] END criterion=entropy, max_features=auto, n_estimators=50; total time=   0.4s\n",
      "[CV] END criterion=entropy, max_features=auto, n_estimators=50; total time=   0.2s\n",
      "[CV] END criterion=entropy, max_features=auto, n_estimators=50; total time=   0.3s\n",
      "[CV] END criterion=entropy, max_features=auto, n_estimators=50; total time=   0.2s\n",
      "[CV] END criterion=entropy, max_features=auto, n_estimators=100; total time=   0.5s\n",
      "[CV] END criterion=entropy, max_features=auto, n_estimators=100; total time=   0.4s\n",
      "[CV] END criterion=entropy, max_features=auto, n_estimators=100; total time=   0.2s\n",
      "[CV] END criterion=entropy, max_features=auto, n_estimators=100; total time=   0.6s\n",
      "[CV] END criterion=entropy, max_features=auto, n_estimators=100; total time=   0.7s\n",
      "[CV] END criterion=entropy, max_features=auto, n_estimators=150; total time=   0.5s\n",
      "[CV] END criterion=entropy, max_features=auto, n_estimators=150; total time=   0.9s\n",
      "[CV] END criterion=entropy, max_features=auto, n_estimators=150; total time=   1.5s\n",
      "[CV] END criterion=entropy, max_features=auto, n_estimators=150; total time=   0.5s\n",
      "[CV] END criterion=entropy, max_features=auto, n_estimators=150; total time=   0.4s\n",
      "[CV] END criterion=entropy, max_features=auto, n_estimators=200; total time=   0.8s\n",
      "[CV] END criterion=entropy, max_features=auto, n_estimators=200; total time=   0.9s\n",
      "[CV] END criterion=entropy, max_features=auto, n_estimators=200; total time=   1.1s\n",
      "[CV] END criterion=entropy, max_features=auto, n_estimators=200; total time=   0.8s\n",
      "[CV] END criterion=entropy, max_features=auto, n_estimators=200; total time=   0.7s\n",
      "[CV] END criterion=entropy, max_features=auto, n_estimators=250; total time=   1.6s\n",
      "[CV] END criterion=entropy, max_features=auto, n_estimators=250; total time=   1.0s\n",
      "[CV] END criterion=entropy, max_features=auto, n_estimators=250; total time=   0.9s\n",
      "[CV] END criterion=entropy, max_features=auto, n_estimators=250; total time=   1.2s\n",
      "[CV] END criterion=entropy, max_features=auto, n_estimators=250; total time=   1.2s\n",
      "[CV] END criterion=entropy, max_features=sqrt, n_estimators=50; total time=   0.1s\n"
     ]
    },
    {
     "name": "stdout",
     "output_type": "stream",
     "text": [
      "[CV] END criterion=entropy, max_features=sqrt, n_estimators=50; total time=   0.0s\n",
      "[CV] END criterion=entropy, max_features=sqrt, n_estimators=50; total time=   0.1s\n",
      "[CV] END criterion=entropy, max_features=sqrt, n_estimators=50; total time=   0.4s\n",
      "[CV] END criterion=entropy, max_features=sqrt, n_estimators=50; total time=   0.2s\n",
      "[CV] END criterion=entropy, max_features=sqrt, n_estimators=100; total time=   0.4s\n",
      "[CV] END criterion=entropy, max_features=sqrt, n_estimators=100; total time=   0.4s\n",
      "[CV] END criterion=entropy, max_features=sqrt, n_estimators=100; total time=   0.6s\n",
      "[CV] END criterion=entropy, max_features=sqrt, n_estimators=100; total time=   0.3s\n",
      "[CV] END criterion=entropy, max_features=sqrt, n_estimators=100; total time=   0.4s\n",
      "[CV] END criterion=entropy, max_features=sqrt, n_estimators=150; total time=   0.5s\n",
      "[CV] END criterion=entropy, max_features=sqrt, n_estimators=150; total time=   0.7s\n",
      "[CV] END criterion=entropy, max_features=sqrt, n_estimators=150; total time=   0.8s\n",
      "[CV] END criterion=entropy, max_features=sqrt, n_estimators=150; total time=   0.6s\n",
      "[CV] END criterion=entropy, max_features=sqrt, n_estimators=150; total time=   0.7s\n",
      "[CV] END criterion=entropy, max_features=sqrt, n_estimators=200; total time=   1.5s\n",
      "[CV] END criterion=entropy, max_features=sqrt, n_estimators=200; total time=   0.8s\n",
      "[CV] END criterion=entropy, max_features=sqrt, n_estimators=200; total time=   1.1s\n",
      "[CV] END criterion=entropy, max_features=sqrt, n_estimators=200; total time=   1.7s\n",
      "[CV] END criterion=entropy, max_features=sqrt, n_estimators=200; total time=   1.2s\n",
      "[CV] END criterion=entropy, max_features=sqrt, n_estimators=250; total time=   1.2s\n",
      "[CV] END criterion=entropy, max_features=sqrt, n_estimators=250; total time=   1.1s\n",
      "[CV] END criterion=entropy, max_features=sqrt, n_estimators=250; total time=   1.1s\n",
      "[CV] END criterion=entropy, max_features=sqrt, n_estimators=250; total time=   1.3s\n",
      "[CV] END criterion=entropy, max_features=sqrt, n_estimators=250; total time=   1.0s\n",
      "[CV] END criterion=entropy, max_features=log2, n_estimators=50; total time=   0.1s\n",
      "[CV] END criterion=entropy, max_features=log2, n_estimators=50; total time=   0.1s\n",
      "[CV] END criterion=entropy, max_features=log2, n_estimators=50; total time=   0.1s\n",
      "[CV] END criterion=entropy, max_features=log2, n_estimators=50; total time=   0.2s\n",
      "[CV] END criterion=entropy, max_features=log2, n_estimators=50; total time=   0.1s\n",
      "[CV] END criterion=entropy, max_features=log2, n_estimators=100; total time=   0.6s\n",
      "[CV] END criterion=entropy, max_features=log2, n_estimators=100; total time=   0.3s\n",
      "[CV] END criterion=entropy, max_features=log2, n_estimators=100; total time=   0.5s\n",
      "[CV] END criterion=entropy, max_features=log2, n_estimators=100; total time=   0.3s\n",
      "[CV] END criterion=entropy, max_features=log2, n_estimators=100; total time=   0.4s\n",
      "[CV] END criterion=entropy, max_features=log2, n_estimators=150; total time=   0.4s\n",
      "[CV] END criterion=entropy, max_features=log2, n_estimators=150; total time=   0.6s\n",
      "[CV] END criterion=entropy, max_features=log2, n_estimators=150; total time=   0.8s\n",
      "[CV] END criterion=entropy, max_features=log2, n_estimators=150; total time=   0.7s\n",
      "[CV] END criterion=entropy, max_features=log2, n_estimators=150; total time=   0.8s\n",
      "[CV] END criterion=entropy, max_features=log2, n_estimators=200; total time=   0.9s\n",
      "[CV] END criterion=entropy, max_features=log2, n_estimators=200; total time=   1.0s\n",
      "[CV] END criterion=entropy, max_features=log2, n_estimators=200; total time=   0.7s\n",
      "[CV] END criterion=entropy, max_features=log2, n_estimators=200; total time=   0.9s\n",
      "[CV] END criterion=entropy, max_features=log2, n_estimators=200; total time=   1.0s\n",
      "[CV] END criterion=entropy, max_features=log2, n_estimators=250; total time=   0.9s\n",
      "[CV] END criterion=entropy, max_features=log2, n_estimators=250; total time=   1.1s\n",
      "[CV] END criterion=entropy, max_features=log2, n_estimators=250; total time=   0.7s\n",
      "[CV] END criterion=entropy, max_features=log2, n_estimators=250; total time=   1.2s\n",
      "[CV] END criterion=entropy, max_features=log2, n_estimators=250; total time=   0.9s\n"
     ]
    },
    {
     "data": {
      "text/plain": [
       "GridSearchCV(cv=5, estimator=RandomForestClassifier(),\n",
       "             param_grid={'criterion': ['gini', 'entropy'],\n",
       "                         'max_features': ['auto', 'sqrt', 'log2'],\n",
       "                         'n_estimators': [50, 100, 150, 200, 250]},\n",
       "             verbose=2)"
      ]
     },
     "execution_count": 29,
     "metadata": {},
     "output_type": "execute_result"
    }
   ],
   "source": [
    "clf = RandomForestClassifier()\n",
    "grid = {\n",
    "    \"n_estimators\":[50,100,150,200,250], # 5\n",
    "    \"criterion\":[\"gini\",\"entropy\"], # 2\n",
    "    \"max_features\":[\"auto\",\"sqrt\",\"log2\"] # 3 => 30 x 5 = 150\n",
    "}\n",
    "\n",
    "Grid_Clf = GridSearchCV(clf,grid,cv=5,verbose=2)\n",
    "Grid_Clf.fit(X_train,y_train)"
   ]
  },
  {
   "cell_type": "code",
   "execution_count": 30,
   "id": "7db595dc",
   "metadata": {},
   "outputs": [
    {
     "data": {
      "text/plain": [
       "{'criterion': 'entropy', 'max_features': 'sqrt', 'n_estimators': 200}"
      ]
     },
     "execution_count": 30,
     "metadata": {},
     "output_type": "execute_result"
    }
   ],
   "source": [
    "Grid_Clf.best_params_"
   ]
  },
  {
   "cell_type": "code",
   "execution_count": 31,
   "id": "c61799fb",
   "metadata": {},
   "outputs": [
    {
     "data": {
      "text/plain": [
       "0.8852459016393442"
      ]
     },
     "execution_count": 31,
     "metadata": {},
     "output_type": "execute_result"
    }
   ],
   "source": [
    "Grid_Clf.score(X_test,y_test)"
   ]
  },
  {
   "cell_type": "code",
   "execution_count": 32,
   "id": "75f932f7",
   "metadata": {},
   "outputs": [],
   "source": [
    "P_pro = Grid_Clf.predict_proba(X_test)"
   ]
  },
  {
   "cell_type": "code",
   "execution_count": 34,
   "id": "5419f863",
   "metadata": {},
   "outputs": [],
   "source": [
    "fpr,tpr,thresholds = roc_curve(y_test,P_pro[:,1])"
   ]
  },
  {
   "cell_type": "code",
   "execution_count": 37,
   "id": "7a6ad2a7",
   "metadata": {},
   "outputs": [
    {
     "data": {
      "text/plain": [
       "<sklearn.metrics._plot.roc_curve.RocCurveDisplay at 0x1ac4f73d6d0>"
      ]
     },
     "execution_count": 37,
     "metadata": {},
     "output_type": "execute_result"
    },
    {
     "data": {
      "image/png": "[encoded data removed]",
      "text/plain": [
       "<Figure size 432x288 with 1 Axes>"
      ]
     },
     "metadata": {
      "needs_background": "light"
     },
     "output_type": "display_data"
    }
   ],
   "source": [
    "plot_roc_curve(Grid_Clf,X_test,y_test)"
   ]
  },
  {
   "cell_type": "code",
   "execution_count": 38,
   "id": "fd27c99e",
   "metadata": {},
   "outputs": [],
   "source": [
    "## save model\n",
    "from joblib import dump,load"
   ]
  },
  {
   "cell_type": "code",
   "execution_count": 40,
   "id": "c3d36ae2",
   "metadata": {},
   "outputs": [
    {
     "data": {
      "text/plain": [
       "['Best_Classifier.joblib']"
      ]
     },
     "execution_count": 40,
     "metadata": {},
     "output_type": "execute_result"
    }
   ],
   "source": [
    "### Save model\n",
    "dump(Grid_Clf,filename='Best_Classifier.joblib')"
   ]
  },
  {
   "cell_type": "code",
   "execution_count": 41,
   "id": "f4639940",
   "metadata": {},
   "outputs": [],
   "source": [
    "### Loading Model\n",
    "clf = load(filename=\"Best_Classifier.joblib\")"
   ]
  },
  {
   "cell_type": "code",
   "execution_count": 42,
   "id": "204447f5",
   "metadata": {},
   "outputs": [
    {
     "data": {
      "text/plain": [
       "0.8852459016393442"
      ]
     },
     "execution_count": 42,
     "metadata": {},
     "output_type": "execute_result"
    }
   ],
   "source": [
    "clf.score(X_test,y_test)"
   ]
  },
  {
   "cell_type": "code",
   "execution_count": null,
   "id": "ba22bd61",
   "metadata": {},
   "outputs": [],
   "source": []
  }
 ],
 "metadata": {
  "kernelspec": {
   "display_name": "Python 3",
   "language": "python",
   "name": "python3"
  },
  "language_info": {
   "codemirror_mode": {
    "name": "ipython",
    "version": 3
   },
   "file_extension": ".py",
   "mimetype": "text/x-python",
   "name": "python",
   "nbconvert_exporter": "python",
   "pygments_lexer": "ipython3",
   "version": "3.9.5"
  }
 },
 "nbformat": 4,
 "nbformat_minor": 5
}
