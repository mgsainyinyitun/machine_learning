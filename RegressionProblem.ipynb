{
 "cells": [
  {
   "cell_type": "code",
   "execution_count": 1,
   "id": "262223f5",
   "metadata": {},
   "outputs": [],
   "source": [
    "# Import \n",
    "import pandas as pd\n",
    "import numpy as np\n",
    "from sklearn.model_selection import train_test_split"
   ]
  },
  {
   "cell_type": "code",
   "execution_count": 7,
   "id": "a7cea5e4",
   "metadata": {},
   "outputs": [
    {
     "data": {
      "text/html": [
       "<div>\n",
       "<style scoped>\n",
       "    .dataframe tbody tr th:only-of-type {\n",
       "        vertical-align: middle;\n",
       "    }\n",
       "\n",
       "    .dataframe tbody tr th {\n",
       "        vertical-align: top;\n",
       "    }\n",
       "\n",
       "    .dataframe thead th {\n",
       "        text-align: right;\n",
       "    }\n",
       "</style>\n",
       "<table border=\"1\" class=\"dataframe\">\n",
       "  <thead>\n",
       "    <tr style=\"text-align: right;\">\n",
       "      <th></th>\n",
       "      <th>0</th>\n",
       "      <th>1</th>\n",
       "      <th>2</th>\n",
       "      <th>3</th>\n",
       "      <th>4</th>\n",
       "      <th>5</th>\n",
       "      <th>6</th>\n",
       "      <th>7</th>\n",
       "      <th>8</th>\n",
       "      <th>9</th>\n",
       "      <th>10</th>\n",
       "      <th>11</th>\n",
       "      <th>12</th>\n",
       "    </tr>\n",
       "  </thead>\n",
       "  <tbody>\n",
       "    <tr>\n",
       "      <th>0</th>\n",
       "      <td>0.00632</td>\n",
       "      <td>18.0</td>\n",
       "      <td>2.31</td>\n",
       "      <td>0.0</td>\n",
       "      <td>0.538</td>\n",
       "      <td>6.575</td>\n",
       "      <td>65.2</td>\n",
       "      <td>4.0900</td>\n",
       "      <td>1.0</td>\n",
       "      <td>296.0</td>\n",
       "      <td>15.3</td>\n",
       "      <td>396.90</td>\n",
       "      <td>4.98</td>\n",
       "    </tr>\n",
       "    <tr>\n",
       "      <th>1</th>\n",
       "      <td>0.02731</td>\n",
       "      <td>0.0</td>\n",
       "      <td>7.07</td>\n",
       "      <td>0.0</td>\n",
       "      <td>0.469</td>\n",
       "      <td>6.421</td>\n",
       "      <td>78.9</td>\n",
       "      <td>4.9671</td>\n",
       "      <td>2.0</td>\n",
       "      <td>242.0</td>\n",
       "      <td>17.8</td>\n",
       "      <td>396.90</td>\n",
       "      <td>9.14</td>\n",
       "    </tr>\n",
       "    <tr>\n",
       "      <th>2</th>\n",
       "      <td>0.02729</td>\n",
       "      <td>0.0</td>\n",
       "      <td>7.07</td>\n",
       "      <td>0.0</td>\n",
       "      <td>0.469</td>\n",
       "      <td>7.185</td>\n",
       "      <td>61.1</td>\n",
       "      <td>4.9671</td>\n",
       "      <td>2.0</td>\n",
       "      <td>242.0</td>\n",
       "      <td>17.8</td>\n",
       "      <td>392.83</td>\n",
       "      <td>4.03</td>\n",
       "    </tr>\n",
       "    <tr>\n",
       "      <th>3</th>\n",
       "      <td>0.03237</td>\n",
       "      <td>0.0</td>\n",
       "      <td>2.18</td>\n",
       "      <td>0.0</td>\n",
       "      <td>0.458</td>\n",
       "      <td>6.998</td>\n",
       "      <td>45.8</td>\n",
       "      <td>6.0622</td>\n",
       "      <td>3.0</td>\n",
       "      <td>222.0</td>\n",
       "      <td>18.7</td>\n",
       "      <td>394.63</td>\n",
       "      <td>2.94</td>\n",
       "    </tr>\n",
       "    <tr>\n",
       "      <th>4</th>\n",
       "      <td>0.06905</td>\n",
       "      <td>0.0</td>\n",
       "      <td>2.18</td>\n",
       "      <td>0.0</td>\n",
       "      <td>0.458</td>\n",
       "      <td>7.147</td>\n",
       "      <td>54.2</td>\n",
       "      <td>6.0622</td>\n",
       "      <td>3.0</td>\n",
       "      <td>222.0</td>\n",
       "      <td>18.7</td>\n",
       "      <td>396.90</td>\n",
       "      <td>5.33</td>\n",
       "    </tr>\n",
       "  </tbody>\n",
       "</table>\n",
       "</div>"
      ],
      "text/plain": [
       "        0     1     2    3      4      5     6       7    8      9     10  \\\n",
       "0  0.00632  18.0  2.31  0.0  0.538  6.575  65.2  4.0900  1.0  296.0  15.3   \n",
       "1  0.02731   0.0  7.07  0.0  0.469  6.421  78.9  4.9671  2.0  242.0  17.8   \n",
       "2  0.02729   0.0  7.07  0.0  0.469  7.185  61.1  4.9671  2.0  242.0  17.8   \n",
       "3  0.03237   0.0  2.18  0.0  0.458  6.998  45.8  6.0622  3.0  222.0  18.7   \n",
       "4  0.06905   0.0  2.18  0.0  0.458  7.147  54.2  6.0622  3.0  222.0  18.7   \n",
       "\n",
       "       11    12  \n",
       "0  396.90  4.98  \n",
       "1  396.90  9.14  \n",
       "2  392.83  4.03  \n",
       "3  394.63  2.94  \n",
       "4  396.90  5.33  "
      ]
     },
     "execution_count": 7,
     "metadata": {},
     "output_type": "execute_result"
    }
   ],
   "source": [
    "from sklearn.datasets import load_boston\n",
    "housing = load_boston()\n",
    "housing\n",
    "house = pd.DataFrame(housing['data'])\n",
    "house.head()"
   ]
  },
  {
   "cell_type": "code",
   "execution_count": 9,
   "id": "d0971216",
   "metadata": {},
   "outputs": [
    {
     "data": {
      "text/html": [
       "<div>\n",
       "<style scoped>\n",
       "    .dataframe tbody tr th:only-of-type {\n",
       "        vertical-align: middle;\n",
       "    }\n",
       "\n",
       "    .dataframe tbody tr th {\n",
       "        vertical-align: top;\n",
       "    }\n",
       "\n",
       "    .dataframe thead th {\n",
       "        text-align: right;\n",
       "    }\n",
       "</style>\n",
       "<table border=\"1\" class=\"dataframe\">\n",
       "  <thead>\n",
       "    <tr style=\"text-align: right;\">\n",
       "      <th></th>\n",
       "      <th>0</th>\n",
       "      <th>1</th>\n",
       "      <th>2</th>\n",
       "      <th>3</th>\n",
       "      <th>4</th>\n",
       "      <th>5</th>\n",
       "      <th>6</th>\n",
       "      <th>7</th>\n",
       "      <th>8</th>\n",
       "      <th>9</th>\n",
       "      <th>10</th>\n",
       "      <th>11</th>\n",
       "      <th>12</th>\n",
       "      <th>13</th>\n",
       "    </tr>\n",
       "  </thead>\n",
       "  <tbody>\n",
       "    <tr>\n",
       "      <th>0</th>\n",
       "      <td>0.00632</td>\n",
       "      <td>18.0</td>\n",
       "      <td>2.31</td>\n",
       "      <td>0.0</td>\n",
       "      <td>0.538</td>\n",
       "      <td>6.575</td>\n",
       "      <td>65.2</td>\n",
       "      <td>4.0900</td>\n",
       "      <td>1.0</td>\n",
       "      <td>296.0</td>\n",
       "      <td>15.3</td>\n",
       "      <td>396.90</td>\n",
       "      <td>4.98</td>\n",
       "      <td>24.0</td>\n",
       "    </tr>\n",
       "    <tr>\n",
       "      <th>1</th>\n",
       "      <td>0.02731</td>\n",
       "      <td>0.0</td>\n",
       "      <td>7.07</td>\n",
       "      <td>0.0</td>\n",
       "      <td>0.469</td>\n",
       "      <td>6.421</td>\n",
       "      <td>78.9</td>\n",
       "      <td>4.9671</td>\n",
       "      <td>2.0</td>\n",
       "      <td>242.0</td>\n",
       "      <td>17.8</td>\n",
       "      <td>396.90</td>\n",
       "      <td>9.14</td>\n",
       "      <td>21.6</td>\n",
       "    </tr>\n",
       "    <tr>\n",
       "      <th>2</th>\n",
       "      <td>0.02729</td>\n",
       "      <td>0.0</td>\n",
       "      <td>7.07</td>\n",
       "      <td>0.0</td>\n",
       "      <td>0.469</td>\n",
       "      <td>7.185</td>\n",
       "      <td>61.1</td>\n",
       "      <td>4.9671</td>\n",
       "      <td>2.0</td>\n",
       "      <td>242.0</td>\n",
       "      <td>17.8</td>\n",
       "      <td>392.83</td>\n",
       "      <td>4.03</td>\n",
       "      <td>34.7</td>\n",
       "    </tr>\n",
       "    <tr>\n",
       "      <th>3</th>\n",
       "      <td>0.03237</td>\n",
       "      <td>0.0</td>\n",
       "      <td>2.18</td>\n",
       "      <td>0.0</td>\n",
       "      <td>0.458</td>\n",
       "      <td>6.998</td>\n",
       "      <td>45.8</td>\n",
       "      <td>6.0622</td>\n",
       "      <td>3.0</td>\n",
       "      <td>222.0</td>\n",
       "      <td>18.7</td>\n",
       "      <td>394.63</td>\n",
       "      <td>2.94</td>\n",
       "      <td>33.4</td>\n",
       "    </tr>\n",
       "    <tr>\n",
       "      <th>4</th>\n",
       "      <td>0.06905</td>\n",
       "      <td>0.0</td>\n",
       "      <td>2.18</td>\n",
       "      <td>0.0</td>\n",
       "      <td>0.458</td>\n",
       "      <td>7.147</td>\n",
       "      <td>54.2</td>\n",
       "      <td>6.0622</td>\n",
       "      <td>3.0</td>\n",
       "      <td>222.0</td>\n",
       "      <td>18.7</td>\n",
       "      <td>396.90</td>\n",
       "      <td>5.33</td>\n",
       "      <td>36.2</td>\n",
       "    </tr>\n",
       "  </tbody>\n",
       "</table>\n",
       "</div>"
      ],
      "text/plain": [
       "        0     1     2    3      4      5     6       7    8      9     10  \\\n",
       "0  0.00632  18.0  2.31  0.0  0.538  6.575  65.2  4.0900  1.0  296.0  15.3   \n",
       "1  0.02731   0.0  7.07  0.0  0.469  6.421  78.9  4.9671  2.0  242.0  17.8   \n",
       "2  0.02729   0.0  7.07  0.0  0.469  7.185  61.1  4.9671  2.0  242.0  17.8   \n",
       "3  0.03237   0.0  2.18  0.0  0.458  6.998  45.8  6.0622  3.0  222.0  18.7   \n",
       "4  0.06905   0.0  2.18  0.0  0.458  7.147  54.2  6.0622  3.0  222.0  18.7   \n",
       "\n",
       "       11    12    13  \n",
       "0  396.90  4.98  24.0  \n",
       "1  396.90  9.14  21.6  \n",
       "2  392.83  4.03  34.7  \n",
       "3  394.63  2.94  33.4  \n",
       "4  396.90  5.33  36.2  "
      ]
     },
     "execution_count": 9,
     "metadata": {},
     "output_type": "execute_result"
    }
   ],
   "source": [
    "house[13] = housing['target']\n",
    "house.head()"
   ]
  },
  {
   "cell_type": "code",
   "execution_count": 97,
   "id": "3d2b1957",
   "metadata": {},
   "outputs": [],
   "source": [
    "X = house.drop(13,axis=1)\n",
    "y = house[13]\n",
    "X_train,X_test,y_train,y_test = train_test_split(X,y,test_size=0.2)"
   ]
  },
  {
   "cell_type": "code",
   "execution_count": 65,
   "id": "14baaf21",
   "metadata": {},
   "outputs": [],
   "source": [
    "### RandomForestRegressor\n",
    "from sklearn.ensemble import RandomForestRegressor\n",
    "rf_clf = RandomForestRegressor()"
   ]
  },
  {
   "cell_type": "code",
   "execution_count": 66,
   "id": "5fcfcc18",
   "metadata": {},
   "outputs": [
    {
     "data": {
      "text/plain": [
       "RandomForestRegressor()"
      ]
     },
     "execution_count": 66,
     "metadata": {},
     "output_type": "execute_result"
    }
   ],
   "source": [
    "rf_clf.fit(X_train,y_train)"
   ]
  },
  {
   "cell_type": "code",
   "execution_count": 67,
   "id": "73e0c964",
   "metadata": {},
   "outputs": [
    {
     "data": {
      "text/plain": [
       "0.8796040809716893"
      ]
     },
     "execution_count": 67,
     "metadata": {},
     "output_type": "execute_result"
    }
   ],
   "source": [
    "rf_clf.score(X_test,y_test)"
   ]
  },
  {
   "cell_type": "code",
   "execution_count": 64,
   "id": "b0bafb2c",
   "metadata": {},
   "outputs": [
    {
     "data": {
      "text/plain": [
       "array([11.25 , 24.334, 12.373, 22.112, 31.301])"
      ]
     },
     "execution_count": 64,
     "metadata": {},
     "output_type": "execute_result"
    }
   ],
   "source": [
    "## Predicit\n",
    "y_pred = rf_clf.predict(X_test)\n",
    "y_pred[:5]"
   ]
  },
  {
   "cell_type": "code",
   "execution_count": 18,
   "id": "37915ef6",
   "metadata": {},
   "outputs": [
    {
     "data": {
      "text/plain": [
       "412    17.9\n",
       "326    23.0\n",
       "403     8.3\n",
       "265    22.8\n",
       "275    32.0\n",
       "Name: 13, dtype: float64"
      ]
     },
     "execution_count": 18,
     "metadata": {},
     "output_type": "execute_result"
    }
   ],
   "source": [
    "y_test[:5]"
   ]
  },
  {
   "cell_type": "code",
   "execution_count": 19,
   "id": "3a558bbc",
   "metadata": {},
   "outputs": [],
   "source": [
    "from sklearn.metrics import mean_absolute_error\n",
    "MAE = mean_absolute_error(y_test,y_pred)"
   ]
  },
  {
   "cell_type": "code",
   "execution_count": 20,
   "id": "f6d49e1c",
   "metadata": {},
   "outputs": [
    {
     "data": {
      "text/plain": [
       "2.330892156862746"
      ]
     },
     "execution_count": 20,
     "metadata": {},
     "output_type": "execute_result"
    }
   ],
   "source": [
    "MAE  # $ 2.3 $  # MAE = 0 is the best "
   ]
  },
  {
   "cell_type": "code",
   "execution_count": 22,
   "id": "4e778fab",
   "metadata": {},
   "outputs": [],
   "source": [
    "# MAE on training data\n",
    "y_pred_train = rf_clf.predict(X_train)"
   ]
  },
  {
   "cell_type": "code",
   "execution_count": 23,
   "id": "ec3bd0ba",
   "metadata": {},
   "outputs": [],
   "source": [
    "MAE_T = mean_absolute_error(y_train,y_pred_train)"
   ]
  },
  {
   "cell_type": "code",
   "execution_count": 24,
   "id": "4c5835e6",
   "metadata": {},
   "outputs": [
    {
     "data": {
      "text/plain": [
       "0.8263638613861372"
      ]
     },
     "execution_count": 24,
     "metadata": {},
     "output_type": "execute_result"
    }
   ],
   "source": [
    "MAE_T"
   ]
  },
  {
   "cell_type": "code",
   "execution_count": 25,
   "id": "8e428fb8",
   "metadata": {},
   "outputs": [],
   "source": [
    "# Mean square error // Amplified Error\n",
    "from sklearn.metrics import mean_squared_error\n",
    "MSE = mean_squared_error(y_test,y_pred)"
   ]
  },
  {
   "cell_type": "code",
   "execution_count": 26,
   "id": "3cafe867",
   "metadata": {},
   "outputs": [
    {
     "data": {
      "text/plain": [
       "11.07781581372549"
      ]
     },
     "execution_count": 26,
     "metadata": {},
     "output_type": "execute_result"
    }
   ],
   "source": [
    "MSE"
   ]
  },
  {
   "cell_type": "code",
   "execution_count": 27,
   "id": "695a8225",
   "metadata": {},
   "outputs": [],
   "source": [
    "MSE_T= mean_squared_error(y_train,y_pred_train)"
   ]
  },
  {
   "cell_type": "code",
   "execution_count": 28,
   "id": "717f7e5c",
   "metadata": {},
   "outputs": [
    {
     "data": {
      "text/plain": [
       "1.5009147351485137"
      ]
     },
     "execution_count": 28,
     "metadata": {},
     "output_type": "execute_result"
    }
   ],
   "source": [
    "MSE_T"
   ]
  },
  {
   "cell_type": "code",
   "execution_count": 29,
   "id": "ccd29f43",
   "metadata": {},
   "outputs": [
    {
     "data": {
      "text/plain": [
       "{'bootstrap': True,\n",
       " 'ccp_alpha': 0.0,\n",
       " 'criterion': 'mse',\n",
       " 'max_depth': None,\n",
       " 'max_features': 'auto',\n",
       " 'max_leaf_nodes': None,\n",
       " 'max_samples': None,\n",
       " 'min_impurity_decrease': 0.0,\n",
       " 'min_impurity_split': None,\n",
       " 'min_samples_leaf': 1,\n",
       " 'min_samples_split': 2,\n",
       " 'min_weight_fraction_leaf': 0.0,\n",
       " 'n_estimators': 100,\n",
       " 'n_jobs': None,\n",
       " 'oob_score': False,\n",
       " 'random_state': None,\n",
       " 'verbose': 0,\n",
       " 'warm_start': False}"
      ]
     },
     "execution_count": 29,
     "metadata": {},
     "output_type": "execute_result"
    }
   ],
   "source": [
    "# Imporove Model\n",
    "# 1. By Hand\n",
    "rf_clf.get_params()"
   ]
  },
  {
   "cell_type": "code",
   "execution_count": 31,
   "id": "4348e6e5",
   "metadata": {},
   "outputs": [
    {
     "data": {
      "text/plain": [
       "(506, 14)"
      ]
     },
     "execution_count": 31,
     "metadata": {},
     "output_type": "execute_result"
    }
   ],
   "source": [
    "# Split data int train,validate,test\n",
    "house.shape"
   ]
  },
  {
   "cell_type": "code",
   "execution_count": 40,
   "id": "c7ea80fc",
   "metadata": {},
   "outputs": [],
   "source": [
    "l1 = int(np.ceil((house.shape[0]/100)*80))\n",
    "l2 = int(np.ceil((house.shape[0]/100)*90))"
   ]
  },
  {
   "cell_type": "code",
   "execution_count": 46,
   "id": "873f27bf",
   "metadata": {},
   "outputs": [],
   "source": [
    "# 506 => 80% => 506\n",
    "X_Train = X[:l1]\n",
    "X_Valide = X[l1:l2]\n",
    "X_Test = X[l2:]\n",
    "\n",
    "y_Train = y[:l1]\n",
    "y_Valide = y[l1:l2]\n",
    "y_Test = y[l2:]"
   ]
  },
  {
   "cell_type": "code",
   "execution_count": 45,
   "id": "3b4f0ede",
   "metadata": {},
   "outputs": [
    {
     "name": "stdout",
     "output_type": "stream",
     "text": [
      "(405, 13)\n",
      "(51, 13)\n",
      "(50, 13)\n"
     ]
    }
   ],
   "source": [
    "print(X_Train.shape)\n",
    "print(X_Valide.shape)\n",
    "print(X_Test.shape)"
   ]
  },
  {
   "cell_type": "code",
   "execution_count": 78,
   "id": "06c5af08",
   "metadata": {},
   "outputs": [
    {
     "data": {
      "text/plain": [
       "RandomForestRegressor(n_estimators=200)"
      ]
     },
     "execution_count": 78,
     "metadata": {},
     "output_type": "execute_result"
    }
   ],
   "source": [
    "# Manual Adjust\n",
    "rf_clf_2 = RandomForestRegressor(n_estimators=200)\n",
    "rf_clf_2.fit(X_Train,y_Train)"
   ]
  },
  {
   "cell_type": "code",
   "execution_count": 79,
   "id": "c3f92866",
   "metadata": {},
   "outputs": [
    {
     "data": {
      "text/plain": [
       "-0.16403562814091877"
      ]
     },
     "execution_count": 79,
     "metadata": {},
     "output_type": "execute_result"
    }
   ],
   "source": [
    "rf_clf_2.score(X_Valide,y_Valide)"
   ]
  },
  {
   "cell_type": "code",
   "execution_count": 92,
   "id": "0bbfd7ea",
   "metadata": {},
   "outputs": [
    {
     "name": "stdout",
     "output_type": "stream",
     "text": [
      "Fitting 5 folds for each of 10 candidates, totalling 50 fits\n",
      "[CV] END ..criterion=mae, max_features=auto, n_estimators=50; total time=   2.8s\n",
      "[CV] END ..criterion=mae, max_features=auto, n_estimators=50; total time=   1.7s\n",
      "[CV] END ..criterion=mae, max_features=auto, n_estimators=50; total time=   1.3s\n",
      "[CV] END ..criterion=mae, max_features=auto, n_estimators=50; total time=   1.4s\n",
      "[CV] END ..criterion=mae, max_features=auto, n_estimators=50; total time=   1.3s\n",
      "[CV] END ..criterion=mse, max_features=sqrt, n_estimators=50; total time=   0.4s\n",
      "[CV] END ..criterion=mse, max_features=sqrt, n_estimators=50; total time=   0.1s\n",
      "[CV] END ..criterion=mse, max_features=sqrt, n_estimators=50; total time=   0.0s\n",
      "[CV] END ..criterion=mse, max_features=sqrt, n_estimators=50; total time=   0.1s\n",
      "[CV] END ..criterion=mse, max_features=sqrt, n_estimators=50; total time=   0.2s\n",
      "[CV] END .criterion=mse, max_features=log2, n_estimators=100; total time=   0.3s\n",
      "[CV] END .criterion=mse, max_features=log2, n_estimators=100; total time=   0.7s\n",
      "[CV] END .criterion=mse, max_features=log2, n_estimators=100; total time=   0.4s\n",
      "[CV] END .criterion=mse, max_features=log2, n_estimators=100; total time=   0.6s\n",
      "[CV] END .criterion=mse, max_features=log2, n_estimators=100; total time=   0.8s\n",
      "[CV] END .criterion=mae, max_features=log2, n_estimators=300; total time=   3.2s\n",
      "[CV] END .criterion=mae, max_features=log2, n_estimators=300; total time=   3.3s\n",
      "[CV] END .criterion=mae, max_features=log2, n_estimators=300; total time=   3.1s\n",
      "[CV] END .criterion=mae, max_features=log2, n_estimators=300; total time=   4.1s\n",
      "[CV] END .criterion=mae, max_features=log2, n_estimators=300; total time=   4.3s\n",
      "[CV] END .criterion=mse, max_features=sqrt, n_estimators=100; total time=   0.6s\n",
      "[CV] END .criterion=mse, max_features=sqrt, n_estimators=100; total time=   0.3s\n",
      "[CV] END .criterion=mse, max_features=sqrt, n_estimators=100; total time=   0.7s\n",
      "[CV] END .criterion=mse, max_features=sqrt, n_estimators=100; total time=   0.3s\n",
      "[CV] END .criterion=mse, max_features=sqrt, n_estimators=100; total time=   0.5s\n",
      "[CV] END .criterion=mse, max_features=auto, n_estimators=250; total time=   2.0s\n",
      "[CV] END .criterion=mse, max_features=auto, n_estimators=250; total time=   1.9s\n",
      "[CV] END .criterion=mse, max_features=auto, n_estimators=250; total time=   2.0s\n",
      "[CV] END .criterion=mse, max_features=auto, n_estimators=250; total time=   1.9s\n",
      "[CV] END .criterion=mse, max_features=auto, n_estimators=250; total time=   1.5s\n",
      "[CV] END .criterion=mae, max_features=sqrt, n_estimators=100; total time=   1.1s\n",
      "[CV] END .criterion=mae, max_features=sqrt, n_estimators=100; total time=   1.2s\n",
      "[CV] END .criterion=mae, max_features=sqrt, n_estimators=100; total time=   1.5s\n",
      "[CV] END .criterion=mae, max_features=sqrt, n_estimators=100; total time=   1.1s\n",
      "[CV] END .criterion=mae, max_features=sqrt, n_estimators=100; total time=   1.4s\n",
      "[CV] END .criterion=mae, max_features=auto, n_estimators=250; total time=   7.7s\n",
      "[CV] END .criterion=mae, max_features=auto, n_estimators=250; total time=   7.4s\n",
      "[CV] END .criterion=mae, max_features=auto, n_estimators=250; total time=   7.0s\n",
      "[CV] END .criterion=mae, max_features=auto, n_estimators=250; total time=   6.9s\n",
      "[CV] END .criterion=mae, max_features=auto, n_estimators=250; total time=   8.3s\n",
      "[CV] END .criterion=mse, max_features=sqrt, n_estimators=200; total time=   0.9s\n",
      "[CV] END .criterion=mse, max_features=sqrt, n_estimators=200; total time=   1.2s\n",
      "[CV] END .criterion=mse, max_features=sqrt, n_estimators=200; total time=   1.0s\n",
      "[CV] END .criterion=mse, max_features=sqrt, n_estimators=200; total time=   1.0s\n",
      "[CV] END .criterion=mse, max_features=sqrt, n_estimators=200; total time=   0.8s\n",
      "[CV] END ..criterion=mae, max_features=log2, n_estimators=50; total time=   0.5s\n",
      "[CV] END ..criterion=mae, max_features=log2, n_estimators=50; total time=   0.6s\n",
      "[CV] END ..criterion=mae, max_features=log2, n_estimators=50; total time=   0.8s\n",
      "[CV] END ..criterion=mae, max_features=log2, n_estimators=50; total time=   0.6s\n",
      "[CV] END ..criterion=mae, max_features=log2, n_estimators=50; total time=   0.6s\n"
     ]
    },
    {
     "data": {
      "text/plain": [
       "RandomizedSearchCV(cv=5, estimator=RandomForestRegressor(),\n",
       "                   param_distributions={'criterion': ['mse', 'mae'],\n",
       "                                        'max_features': ['auto', 'sqrt',\n",
       "                                                         'log2'],\n",
       "                                        'n_estimators': [50, 100, 150, 200, 250,\n",
       "                                                         300]},\n",
       "                   verbose=2)"
      ]
     },
     "execution_count": 92,
     "metadata": {},
     "output_type": "execute_result"
    }
   ],
   "source": [
    "# RandomSearchCV h-parameter adjust\n",
    "rf = RandomForestRegressor()\n",
    "from sklearn.model_selection import RandomizedSearchCV\n",
    "\n",
    "grid = {\n",
    "    'n_estimators':[50,100,150,200,250,300], # 6\n",
    "    'criterion':['mse','mae'], # 2\n",
    "    'max_features':['auto','sqrt','log2'], # 3 => 6x2x3 = 36\n",
    "}\n",
    "\n",
    "rand_clf = RandomizedSearchCV(\n",
    "        rf,\n",
    "        grid,\n",
    "        n_iter=10,\n",
    "        verbose = 2,\n",
    "        cv = 5\n",
    ")\n",
    "\n",
    "rand_clf.fit(X_train,y_train)"
   ]
  },
  {
   "cell_type": "code",
   "execution_count": 93,
   "id": "270042c2",
   "metadata": {},
   "outputs": [
    {
     "data": {
      "text/plain": [
       "{'n_estimators': 100, 'max_features': 'sqrt', 'criterion': 'mae'}"
      ]
     },
     "execution_count": 93,
     "metadata": {},
     "output_type": "execute_result"
    }
   ],
   "source": [
    "rand_clf.best_params_"
   ]
  },
  {
   "cell_type": "code",
   "execution_count": 94,
   "id": "a765df78",
   "metadata": {},
   "outputs": [
    {
     "data": {
      "text/plain": [
       "0.8753235841669673"
      ]
     },
     "execution_count": 94,
     "metadata": {},
     "output_type": "execute_result"
    }
   ],
   "source": [
    "rand_clf.score(X_test,y_test)"
   ]
  },
  {
   "cell_type": "code",
   "execution_count": 99,
   "id": "6c8382e3",
   "metadata": {},
   "outputs": [
    {
     "data": {
      "text/plain": [
       "1.1277107843137246"
      ]
     },
     "execution_count": 99,
     "metadata": {},
     "output_type": "execute_result"
    }
   ],
   "source": [
    "predict = rand_clf.predict(X_test)\n",
    "mean_absolute_error(y_test,predict)"
   ]
  },
  {
   "cell_type": "code",
   "execution_count": 101,
   "id": "c0599b41",
   "metadata": {},
   "outputs": [
    {
     "data": {
      "text/plain": [
       "2.5203032328431347"
      ]
     },
     "execution_count": 101,
     "metadata": {},
     "output_type": "execute_result"
    }
   ],
   "source": [
    "mean_squared_error(y_test,predict)"
   ]
  },
  {
   "cell_type": "code",
   "execution_count": null,
   "id": "8fcf2e7a",
   "metadata": {},
   "outputs": [],
   "source": []
  }
 ],
 "metadata": {
  "kernelspec": {
   "display_name": "Python 3",
   "language": "python",
   "name": "python3"
  },
  "language_info": {
   "codemirror_mode": {
    "name": "ipython",
    "version": 3
   },
   "file_extension": ".py",
   "mimetype": "text/x-python",
   "name": "python",
   "nbconvert_exporter": "python",
   "pygments_lexer": "ipython3",
   "version": "3.9.5"
  }
 },
 "nbformat": 4,
 "nbformat_minor": 5
}
